{
 "cells": [
  {
   "cell_type": "markdown",
   "id": "63e66f75",
   "metadata": {},
   "source": [
    "# Gaussian Quadrature"
   ]
  },
  {
   "cell_type": "markdown",
   "id": "8e6addc4",
   "metadata": {},
   "source": [
    "## Brief Introduction"
   ]
  },
  {
   "cell_type": "markdown",
   "id": "f4c38d82",
   "metadata": {},
   "source": [
    "Named after Carl Friedrich Gauss, Gaussian Quadrature is a method of evaluating a definite integral in an even more precise way when compared to other methods we've discussed in previous lectures, such as rectangle or trapezoidal. The method itself is quite similar to Simpson's Rule, albeit more precise considering the node placement for Simpson's rule are evenly spaced, whereas Gaussian Quadrature use a more dynamic placement for its nodes. \n",
    "Suppose we are given some function and wish to integrate it over the interval [-1,1], Gaussian Quadrature will give an estimated value of the integral based on the following, where $x_i$ and $\\omega_i$ represent the nodes and weights respectively,"
   ]
  },
  {
   "cell_type": "markdown",
   "id": "33cac28a",
   "metadata": {},
   "source": [
    "$$ \\int_{-1}^{1}f(x)\\thinspace dx = \\sum_{i=1}^n\\omega_if(x_i)$$ \n"
   ]
  },
  {
   "cell_type": "markdown",
   "id": "14d572f4",
   "metadata": {},
   "source": [
    "## Overview"
   ]
  },
  {
   "cell_type": "markdown",
   "id": "e325648a",
   "metadata": {},
   "source": [
    "As seen from the above summation, n represents the number of nodes, where 2n is the number of unknowns (nodes and weights) we need to solve for. With this in mind, we can state that the Gaussian Quadrature will be accurate for a polynomial of degree up to 2n-1. Expanding the summation, we get the following... "
   ]
  },
  {
   "cell_type": "markdown",
   "id": "f3b1ace9",
   "metadata": {},
   "source": [
    "$$\n",
    " \\int_{-1}^{1}x^k\\thinspace dx = \\sum_{i=1}^n\\omega_if(x_i) = \\omega_1x_1^k + \\omega_2x_2^k + ... + \\omega_nx_n^k \n",
    " $$ for $k=0,1,2,3,4,...,2n-1$.\n",
    "\n"
   ]
  },
  {
   "cell_type": "markdown",
   "id": "5a09e0e2",
   "metadata": {},
   "source": [
    "Rigth away, we know this integral is symmetrical given the interval, and because of this, any value for k that happens to be odd, the integral simply reduces to 0. Now if k is even, we get..."
   ]
  },
  {
   "cell_type": "markdown",
   "id": "7b6399b0",
   "metadata": {},
   "source": [
    "$$ \\int_{-1}^{1}x^k\\thinspace dx = \\frac{2}{k+1}\\space, where\\thinspace k \\thinspace is\\thinspace even $$"
   ]
  },
  {
   "cell_type": "markdown",
   "id": "05f6f921",
   "metadata": {},
   "source": [
    "Now we could continue and attempt to solve for values of the nodes and weights, however, it is much easier and efficient to use legendre polynomials in the case where our interval is [-1,1], where the roots of the legendre polynomial will be coneniently used for our node values. Using the following, we have an expression for the weights, where $P'_n(x_i)$ is our legendre polynomial derivative"
   ]
  },
  {
   "cell_type": "markdown",
   "id": "aaeabefc",
   "metadata": {},
   "source": [
    "$$\\omega_i = \\frac{2}{\\left(1-x_i^2\\right)\\left[P'_n(x_i)\\right]^2}.$$\n"
   ]
  },
  {
   "cell_type": "markdown",
   "id": "33974c97",
   "metadata": {},
   "source": [
    "Using Bonnet's recursion formula, we can find values for all polynomials beyond $P_0$ and $P_1$, since their values are 1 and x respectively. The same goes for the recursion formula regarding the derivative of the legendre polynomial."
   ]
  },
  {
   "cell_type": "markdown",
   "id": "eff0a4bf",
   "metadata": {},
   "source": [
    "$$(n+1)P_{n+1} = (2n+1)xP_n - nP_{n-1}$$ \n",
    "$$(x^2-1)P'_n = nxP_n - nP_{n-1}.$$\n",
    "where the polynomials $P_0 = 1$ and $P_1 = x$.\n",
    "\n",
    "The expression we'll use to determine the roots of the polynomials is the following,\n",
    "$$x_{n+1} = x_n - \\frac{f(x_n)}{f'(x_n)}$$\n",
    "\n"
   ]
  },
  {
   "cell_type": "code",
   "execution_count": 45,
   "id": "0323aa59",
   "metadata": {},
   "outputs": [],
   "source": [
    "#The following code is used to determine the definite integral of a function by method of Gaussian Quadrature\n",
    "#Used from lecture 5 notes for integreals being evaluated on the interval [-1,1], this particular example gives \n",
    "#the value for a simple function, cos(x).\n",
    "import numpy as np\n",
    "def g(x):\n",
    "    return np.cos(x)\n",
    "import scipy\n",
    "def GaussQ(f,n):\n",
    "    \n",
    "    x = np.zeros(n,float)\n",
    "    for i in range(n):\n",
    "        x[i] = (1-(1/(8*n**2))+(1/(8*n**3)))*(np.cos((np.pi*(4*i-1))/(4*n+2)))\n",
    "    \n",
    "    epsilon = 1e-15\n",
    "    delta = 1.0\n",
    "    while delta>epsilon:\n",
    "        p0 = np.ones(n,float)\n",
    "        p1 = np.copy(x)\n",
    "        for k in range(1,n):\n",
    "       \n",
    "            p0,p1 = p1,((2*k+1)*x*p1-k*p0)/(k+1)\n",
    "            \n",
    "        dp = (n+1)*(p0-x*p1)/(1-x*x)\n",
    "        dx = p1/dp\n",
    "        x -= dx\n",
    "        delta = max(abs(dx))\n",
    "    w = 2/((1-x**2)*dp*dp)\n",
    "    return np.dot(f(x),w)"
   ]
  },
  {
   "cell_type": "code",
   "execution_count": 46,
   "id": "55bb829f",
   "metadata": {},
   "outputs": [
    {
     "name": "stdout",
     "output_type": "stream",
     "text": [
      "1.682605431703398\n"
     ]
    }
   ],
   "source": [
    "print(GaussQ(g,10000))"
   ]
  },
  {
   "cell_type": "markdown",
   "id": "cbfed49b",
   "metadata": {},
   "source": [
    "## Generalization"
   ]
  },
  {
   "cell_type": "markdown",
   "id": "d6cc5ff6",
   "metadata": {},
   "source": [
    "While the above method is accurate, its quite restrictive in its ability to be applied to any sort of varying bound conditions beyond -1 to 1. For this reason, it would be in our best interest to generalize the original formula to allow an integral to be evaluated on some interval [a,b], and it just so happens our original formula becomes the following..."
   ]
  },
  {
   "cell_type": "markdown",
   "id": "cfdd3cc9",
   "metadata": {},
   "source": [
    "$$\\int_a^b f(x)\\thinspace dx = \\frac{b-a}{2}\\sum_{i=1}^n \\omega_i f\\left(\\frac{b-a}{2}x_i + \\frac{a+b}{2}\\right)$$ "
   ]
  },
  {
   "cell_type": "markdown",
   "id": "65b25cb5",
   "metadata": {},
   "source": [
    "Using the expression to find the weights, as well as using the legendre polynomial roots as the nodes, we can evaluate this expression to give us a value for the definite integral, where the following code evaluates a simple cosine function on the interval [-2,5]. After, we'll compare Gaussian Quadrature and Simpson's Rule and the values these both produce on this interval for the function cosx. It should be noted that the amount of nodes for the gaussian quadrature method to converge on the integral value is far less when compared to Simpsons."
   ]
  },
  {
   "cell_type": "code",
   "execution_count": 55,
   "id": "271fdcb9",
   "metadata": {},
   "outputs": [],
   "source": [
    "def f(x):\n",
    "    return np.cos(x)\n",
    "\n",
    "def GenGQ(f,n,a,b):\n",
    "    x = np.zeros(n,float)\n",
    "    for i in range(n):\n",
    "        x[i] = (1-(1/(8*n**2))+(1/(8*n**3)))*(np.cos((np.pi*(4*i-1))/(4*n+2)))\n",
    "        \n",
    "    epsilon = 1e-15\n",
    "    delta = 1.0\n",
    "    while delta>epsilon:\n",
    "        p0 = np.ones(n,float)\n",
    "        p1 = np.copy(x)\n",
    "        for k in range(1,n):\n",
    "       \n",
    "            p0,p1 = p1,((2*k+1)*x*p1-k*p0)/(k+1)\n",
    "            \n",
    "        dp = (n+1)*(p0-x*p1)/(1-x*x)\n",
    "        dx = p1/dp\n",
    "        x -= dx\n",
    "        delta = max(abs(dx))\n",
    "    w = 2/((1-x**2)*dp*dp)\n",
    "    h = 1.0*b - 1.0*a\n",
    "    z = 1.0*b + 1.0*a\n",
    "    b = (0.5*h*x) + (z*0.5)\n",
    "    num = np.dot(f(b),w)\n",
    "    answer = h*num*0.5\n",
    "    return answer\n"
   ]
  },
  {
   "cell_type": "code",
   "execution_count": 56,
   "id": "a57b69d9",
   "metadata": {},
   "outputs": [
    {
     "name": "stdout",
     "output_type": "stream",
     "text": [
      "-0.04961674225201264\n"
     ]
    }
   ],
   "source": [
    "print(GenGQ(f,10000, -2,5))"
   ]
  },
  {
   "cell_type": "markdown",
   "id": "72892c1d",
   "metadata": {},
   "source": [
    "## Gaussian Quadrature vs. Simpson's Rule"
   ]
  },
  {
   "cell_type": "code",
   "execution_count": 53,
   "id": "04bb3a73",
   "metadata": {},
   "outputs": [],
   "source": [
    "def Simpson(f,start, end, parts):\n",
    "    deltax = (end - start) / parts\n",
    "    resultsx = np.linspace(start, end, parts+1)\n",
    "    resultsy = f(resultsx)\n",
    "    area = np.empty([parts+1], float)\n",
    "    for i in range(parts+1):\n",
    "        if i == 0 or i == parts:\n",
    "            coef = 1/3\n",
    "        elif i%2 == 1:\n",
    "            coef = 4/3\n",
    "        else: \n",
    "            coef = 2/3\n",
    "        area[i] = coef*resultsy[i]*deltax\n",
    "    return sum(area)"
   ]
  },
  {
   "cell_type": "code",
   "execution_count": 54,
   "id": "0a2aa520",
   "metadata": {},
   "outputs": [
    {
     "name": "stdout",
     "output_type": "stream",
     "text": [
      "-0.049626847837458216\n"
     ]
    }
   ],
   "source": [
    "print(Simpson(f,-2,5,10000))"
   ]
  },
  {
   "cell_type": "code",
   "execution_count": null,
   "id": "03601f32",
   "metadata": {},
   "outputs": [],
   "source": []
  },
  {
   "cell_type": "code",
   "execution_count": null,
   "id": "bdc7cacb",
   "metadata": {},
   "outputs": [],
   "source": []
  }
 ],
 "metadata": {
  "kernelspec": {
   "display_name": "Python 3",
   "language": "python",
   "name": "python3"
  },
  "language_info": {
   "codemirror_mode": {
    "name": "ipython",
    "version": 3
   },
   "file_extension": ".py",
   "mimetype": "text/x-python",
   "name": "python",
   "nbconvert_exporter": "python",
   "pygments_lexer": "ipython3",
   "version": "3.9.5"
  }
 },
 "nbformat": 4,
 "nbformat_minor": 5
}
