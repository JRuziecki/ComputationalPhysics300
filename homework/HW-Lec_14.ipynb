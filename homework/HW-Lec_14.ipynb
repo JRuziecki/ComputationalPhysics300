{
 "cells": [
  {
   "cell_type": "code",
   "execution_count": 4,
   "id": "267bbbf1",
   "metadata": {},
   "outputs": [],
   "source": [
    "import numpy as np\n",
    " \n",
    "def f(x,y):\n",
    "    return x**2/2 + y**2/3 - x*y/4\n",
    "\n",
    "\n",
    "def gradient(f,x,y,dx=.001,dy=.001):\n",
    "    return (f(x+dx,0)-f(x,0))/dx + (f(0,y+dy)-f(0,y))/dy #Gradient for descent gradient method\n",
    "\n",
    "\n",
    "def minimize(f, x0, y0, N=100000):\n",
    "    \n",
    "    #Defining all the initial conditions\n",
    "    \n",
    "    y_current = y0\n",
    "    x_current = x0\n",
    "    converged = False\n",
    "    x_previous = None\n",
    "    y_previous = None\n",
    "    \n",
    "    for i in range(N):\n",
    "        \n",
    "        #Variable step calculations to descend down the slope of the curve to the minimum\n",
    "        \n",
    "        if x_previous == None and y_previous == None:\n",
    "            dx = .0001\n",
    "            dy = .0001\n",
    "        else:\n",
    "            dfy = dfx = (gradient(f,x_current,y_current)-gradient(f,x_previous,y_current))\n",
    "            dx = (x_current - x_previous)/dfx\n",
    "            dy = (y_current - y_previous)/dfy\n",
    "            \n",
    "        x_next = x_current - gradient(f,x_current,y_current)*dx\n",
    "        y_next = y_current - gradient(f,x_current,y_current)*dy\n",
    "\n",
    "        \n",
    "        if f(x_next,y_next) < f(x_current,y_current): #Checking if slope of current point is larger than next point to find minimum\n",
    "            x_previous = x_current\n",
    "            x_current = x_next\n",
    "            y_previous = y_current\n",
    "            y_current = y_next #Redifining all the new variables if we have not reached the minimum\n",
    "                \n",
    "        else:\n",
    "            converged = True\n",
    "            break\n",
    "    return converged, f(x_current,y_current)  #Returns the minimum point of the function"
   ]
  },
  {
   "cell_type": "code",
   "execution_count": 5,
   "id": "fdfb6a08",
   "metadata": {},
   "outputs": [
    {
     "name": "stdout",
     "output_type": "stream",
     "text": [
      "Minimum =  5.83041703125e-07\n"
     ]
    }
   ],
   "source": [
    "print(\"Minimum = \", minimize(f, 0.001, 0.001, N = 100000)[1])"
   ]
  },
  {
   "cell_type": "code",
   "execution_count": null,
   "id": "553cd3e0",
   "metadata": {},
   "outputs": [],
   "source": []
  }
 ],
 "metadata": {
  "kernelspec": {
   "display_name": "Python 3",
   "language": "python",
   "name": "python3"
  },
  "language_info": {
   "codemirror_mode": {
    "name": "ipython",
    "version": 3
   },
   "file_extension": ".py",
   "mimetype": "text/x-python",
   "name": "python",
   "nbconvert_exporter": "python",
   "pygments_lexer": "ipython3",
   "version": "3.9.5"
  }
 },
 "nbformat": 4,
 "nbformat_minor": 5
}
