{
 "cells": [
  {
   "cell_type": "code",
   "execution_count": 1,
   "id": "113649fe",
   "metadata": {},
   "outputs": [],
   "source": [
    "import numpy as np\n",
    "\n",
    "\n",
    "def LJ(r):\n",
    "    r6 = r**6\n",
    "    r12 = r6*r6\n",
    "    return 4*(1/r12 - 1/r6)\n",
    "\n",
    "def total_LJ(pos):\n",
    "    \n",
    "    E = 0\n",
    "    N = int(len(pos)/3) \n",
    "    pos1 = np.zeros(3)\n",
    "    pos2 = np.zeros(3)\n",
    "    \n",
    "    for i in range(N-1):\n",
    "        for j in range (i+1, N):\n",
    "            pos1 = [pos[i*3], pos[i*3 + 1] , pos[i*3 + 2]]\n",
    "            pos2 = [pos[j*3], pos[j*3 + 1] , pos[j*3 + 2]]\n",
    "            dist = np.sqrt((pos1[0]-pos2[0])**2 + (pos1[1]-pos2[1])**2 + (pos1[2]-pos2[2])**2)\n",
    "            E += LJ(dist)\n",
    "\n",
    "            \n",
    "    return E"
   ]
  },
  {
   "cell_type": "code",
   "execution_count": 4,
   "id": "31301350",
   "metadata": {},
   "outputs": [
    {
     "name": "stdout",
     "output_type": "stream",
     "text": [
      "[0.02544044 0.9223203  0.25026447 0.73039787 0.3126975  0.43430991\n",
      " 0.24808402 0.77341714 0.26786528]\n"
     ]
    }
   ],
   "source": [
    "starting_pos = np.random.random_sample(3*3)\n",
    "print (starting_pos)"
   ]
  },
  {
   "cell_type": "code",
   "execution_count": 5,
   "id": "8622057d",
   "metadata": {},
   "outputs": [
    {
     "name": "stdout",
     "output_type": "stream",
     "text": [
      "Min found at:  -3.0\n"
     ]
    }
   ],
   "source": [
    "from scipy.optimize import minimize\n",
    "\n",
    "\n",
    "minimum = minimize(total_LJ, starting_pos, method='CG', tol=1e-4)\n",
    "print(\"Min found at: \", minimum.fun)"
   ]
  },
  {
   "cell_type": "code",
   "execution_count": null,
   "id": "41f738ff",
   "metadata": {},
   "outputs": [],
   "source": []
  }
 ],
 "metadata": {
  "kernelspec": {
   "display_name": "Python 3",
   "language": "python",
   "name": "python3"
  },
  "language_info": {
   "codemirror_mode": {
    "name": "ipython",
    "version": 3
   },
   "file_extension": ".py",
   "mimetype": "text/x-python",
   "name": "python",
   "nbconvert_exporter": "python",
   "pygments_lexer": "ipython3",
   "version": "3.9.5"
  }
 },
 "nbformat": 4,
 "nbformat_minor": 5
}
