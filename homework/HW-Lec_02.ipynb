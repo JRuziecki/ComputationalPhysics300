{
 "cells": [
  {
   "cell_type": "code",
   "execution_count": 1,
   "id": "4f88f1b2",
   "metadata": {
    "scrolled": false
   },
   "outputs": [
    {
     "name": "stdout",
     "output_type": "stream",
     "text": [
      "1\n",
      "1\n",
      "2\n",
      "3\n",
      "5\n",
      "8\n",
      "13\n",
      "21\n",
      "34\n",
      "55\n",
      "End of Sequence\n"
     ]
    }
   ],
   "source": [
    "def Fibonacci(N):\n",
    "    \n",
    "    x1,x2 = 1,1 #Starting values for the Fibonacci sequence\n",
    "    counter = 1 #Variable used in breaking out of the while loop\n",
    "    \n",
    "    while counter <= N:#Loops until each number in the Fib. sequence is calculated and displayed, up to N times\n",
    "        if N==0:\n",
    "            print(\"0\")\n",
    "            break\n",
    "        else:\n",
    "            print(x1)\n",
    "            x1,x2 = x2,x1+x2 #Calculates the following number in the sequence by adding the previous two\n",
    "            counter += 1     #Adds one to the counter for each iteration through the loop, until the counter value is larger than the user input value of N\n",
    "    return \"End of Sequence\" \n",
    "print(Fibonacci(10))"
   ]
  },
  {
   "cell_type": "code",
   "execution_count": null,
   "id": "e23d5ade",
   "metadata": {},
   "outputs": [],
   "source": []
  },
  {
   "cell_type": "code",
   "execution_count": null,
   "id": "95792fc5",
   "metadata": {},
   "outputs": [],
   "source": []
  },
  {
   "cell_type": "markdown",
   "id": "59070b9c",
   "metadata": {},
   "source": []
  },
  {
   "cell_type": "code",
   "execution_count": null,
   "id": "9bb9cc7d",
   "metadata": {},
   "outputs": [],
   "source": []
  }
 ],
 "metadata": {
  "kernelspec": {
   "display_name": "Python 3",
   "language": "python",
   "name": "python3"
  },
  "language_info": {
   "codemirror_mode": {
    "name": "ipython",
    "version": 3
   },
   "file_extension": ".py",
   "mimetype": "text/x-python",
   "name": "python",
   "nbconvert_exporter": "python",
   "pygments_lexer": "ipython3",
   "version": "3.9.5"
  }
 },
 "nbformat": 4,
 "nbformat_minor": 5
}
