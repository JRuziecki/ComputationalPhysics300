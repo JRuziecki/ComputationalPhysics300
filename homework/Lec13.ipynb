{
 "cells": [
  {
   "cell_type": "code",
   "execution_count": 1,
   "id": "6f94d150",
   "metadata": {},
   "outputs": [
    {
     "name": "stdout",
     "output_type": "stream",
     "text": [
      "The Minimum of This Function Using Random Monte Carlo Method is:  1.0189087313290833e-07\n"
     ]
    }
   ],
   "source": [
    "import numpy\n",
    "#Function from notes\n",
    "def f(x,y):\n",
    "    return 1/2 * x ** 2 + 1/4 * y ** 2\n",
    "\n",
    "\n",
    "#Empty list\n",
    "Points = []\n",
    "N = 10000000  #Number of points we want to calculate to take minimum of. Increase amount to increase accuracy\n",
    "# I tried to increase N but it was quite slow so I settled with this number\n",
    "\n",
    "for i in range(N):\n",
    "    x = numpy.random.random()\n",
    "    y = numpy.random.random()\n",
    "    points = f(x,y)\n",
    "    Points.append(points)\n",
    "    \n",
    "#We can use a built in minimum finder present in Python to find minimum of all the points calculated\n",
    "print(\"The Minimum of This Function Using Random Monte Carlo Method is: \", min(Points))"
   ]
  },
  {
   "cell_type": "code",
   "execution_count": 2,
   "id": "a9c53b98",
   "metadata": {},
   "outputs": [],
   "source": [
    "#Now we use the Gradient Descent Method on the same 2-D function to compare\n",
    "\n",
    "import numpy as np\n",
    " \n",
    "def f(x,y):\n",
    "    return 1/2 * x ** 2 + 1/4 * y ** 2\n",
    "\n",
    "\n",
    "def gradient(f,x,y,dx=.001,dy=.001):\n",
    "    return (f(x+dx,0)-f(x,0))/dx + (f(0,y+dy)-f(0,y))/dy #Gradient for descent gradient method\n",
    "\n",
    "\n",
    "def minimize(f, x0, y0, N=100000):\n",
    "    \n",
    "    #Defining all the initial conditions\n",
    "    \n",
    "    y_current = y0\n",
    "    x_current = x0\n",
    "    converged = False\n",
    "    x_previous = None\n",
    "    y_previous = None\n",
    "    \n",
    "    for i in range(N):\n",
    "        \n",
    "        #Variable step calculations to descend down the slope of the curve to the minimum\n",
    "        \n",
    "        if x_previous == None and y_previous == None:\n",
    "            dx = .0001\n",
    "            dy = .0001\n",
    "        else:\n",
    "            dfy = dfx = (gradient(f,x_current,y_current)-gradient(f,x_previous,y_current))\n",
    "            dx = (x_current - x_previous)/dfx\n",
    "            dy = (y_current - y_previous)/dfy\n",
    "            \n",
    "        x_next = x_current - gradient(f,x_current,y_current)*dx\n",
    "        y_next = y_current - gradient(f,x_current,y_current)*dy\n",
    "\n",
    "        \n",
    "        if f(x_next,y_next) < f(x_current,y_current): #Checking if slope of current point is larger than next point to find minimum\n",
    "            x_previous = x_current\n",
    "            x_current = x_next\n",
    "            y_previous = y_current\n",
    "            y_current = y_next #Redifining all the new variables if we have not reached the minimum\n",
    "                \n",
    "        else:\n",
    "            converged = True\n",
    "            break\n",
    "    return converged, f(x_current,y_current)  #Returns the minimum point of the function"
   ]
  },
  {
   "cell_type": "code",
   "execution_count": 4,
   "id": "0edbcf3b",
   "metadata": {},
   "outputs": [
    {
     "name": "stdout",
     "output_type": "stream",
     "text": [
      "Minimum:  7.496625379687501e-07\n"
     ]
    }
   ],
   "source": [
    "print(\"Minimum: \", minimize(f, 0.001, 0.001, N=100000)[1])\n"
   ]
  },
  {
   "cell_type": "code",
   "execution_count": null,
   "id": "2a1b2fff",
   "metadata": {},
   "outputs": [],
   "source": []
  }
 ],
 "metadata": {
  "kernelspec": {
   "display_name": "Python 3",
   "language": "python",
   "name": "python3"
  },
  "language_info": {
   "codemirror_mode": {
    "name": "ipython",
    "version": 3
   },
   "file_extension": ".py",
   "mimetype": "text/x-python",
   "name": "python",
   "nbconvert_exporter": "python",
   "pygments_lexer": "ipython3",
   "version": "3.9.5"
  }
 },
 "nbformat": 4,
 "nbformat_minor": 5
}
